{
 "cells": [
  {
   "cell_type": "code",
   "execution_count": 1,
   "metadata": {},
   "outputs": [],
   "source": [
    "import numpy as np\n",
    "import sympy"
   ]
  },
  {
   "cell_type": "code",
   "execution_count": 2,
   "metadata": {},
   "outputs": [],
   "source": [
    "def thinking_into_3dv(x_0, y_0, x_1, y_1):\n",
    "    \n",
    "    x_0 = np.array(x_0, dtype=np.float64)\n",
    "    x_1 = np.array(x_1, dtype=np.float64)\n",
    "    y_0 = np.array(y_0, dtype=np.float64)\n",
    "    y_1 = np.array(y_1, dtype=np.float64)\n",
    "\n",
    "    x_0 = x_0.reshape(3, 1)\n",
    "    x_1 = x_1.reshape(3, 1)\n",
    "    y_0 = y_0.reshape(3, 1)\n",
    "    y_1 = y_1.reshape(3, 1)\n",
    "\n",
    "    u_1 = x_1 - (np.dot(x_0.T, x_1) / np.dot(x_0.T, x_0)) * x_0\n",
    "    v_1 = y_1 - (np.dot(y_0.T, y_1) / np.dot(y_0.T, y_0)) * y_0\n",
    "\n",
    "    sympy.var('x, y, z')\n",
    "\n",
    "    fx = x_0[0][0]*x + x_0[1][0]*y + x_0[2][0]*z\n",
    "    gx = x_1[0][0]*x + x_1[1][0]*y + x_1[2][0]*z\n",
    "    hx = x**2 + y**2 + z**2 -1\n",
    "\n",
    "    s = sympy.solve([fx, gx, hx], [x, y, z])\n",
    "\n",
    "    sympy.var('a, b, c')\n",
    "\n",
    "    fx = y_0[0][0]*a + y_0[1][0]*b + y_0[2][0]*c\n",
    "    gx = y_1[0][0]*a + y_1[1][0]*b + y_1[2][0]*c\n",
    "    hx = a**2 + b**2 + c**2 -1\n",
    "\n",
    "    r = sympy.solve([fx, gx, hx], [a, b, c])\n",
    "\n",
    "    n = np.array([s[1][0], s[1][1], s[1][2]], dtype=np.float64).reshape(3, 1)\n",
    "    m = np.array([r[0][0], r[0][1], r[0][2]], dtype=np.float64).reshape(3, 1)\n",
    "\n",
    "    q_1 = np.dot(y_0, x_0.T) * 1/np.dot(x_0.T, x_0) \n",
    "    q_2 = np.dot(v_1, u_1.T) * 1/np.dot(u_1.T, u_1) \n",
    "    q_3 = np.dot(m, n.T) \n",
    "\n",
    "    Q = q_1 + q_2 + q_3\n",
    "\n",
    "    return Q"
   ]
  },
  {
   "cell_type": "code",
   "execution_count": 3,
   "metadata": {},
   "outputs": [
    {
     "data": {
      "text/plain": [
       "array([[-0.33333333,  0.66666667,  0.66666667],\n",
       "       [ 0.66666667, -0.33333333,  0.66666667],\n",
       "       [ 0.66666667,  0.66666667, -0.33333333]])"
      ]
     },
     "execution_count": 3,
     "metadata": {},
     "output_type": "execute_result"
    }
   ],
   "source": [
    "# change number (full rank)\n",
    "thinking_into_3dv([1, 2, 3], [3, 2, 1], [4, 5, 6], [6, 5, 4])"
   ]
  },
  {
   "cell_type": "code",
   "execution_count": 4,
   "metadata": {},
   "outputs": [
    {
     "data": {
      "text/plain": [
       "array([[-0.26582278,  0.2278481 ,  0.93670886],\n",
       "       [ 0.95696203,  0.17974684,  0.2278481 ],\n",
       "       [-0.1164557 ,  0.95696203, -0.26582278]])"
      ]
     },
     "execution_count": 4,
     "metadata": {},
     "output_type": "execute_result"
    }
   ],
   "source": [
    "# change number (full rank)\n",
    "thinking_into_3dv([1, 2, 3], [3, 2, 1], [19, 33, 39], [39, 33, 19])"
   ]
  },
  {
   "cell_type": "code",
   "execution_count": 5,
   "metadata": {},
   "outputs": [
    {
     "data": {
      "text/plain": [
       "array([[ 5.55111512e-17, -5.55111512e-17,  1.00000000e+00],\n",
       "       [-5.55111512e-17,  1.00000000e+00, -5.55111512e-17],\n",
       "       [ 1.00000000e+00, -5.55111512e-17,  5.55111512e-17]])"
      ]
     },
     "execution_count": 5,
     "metadata": {},
     "output_type": "execute_result"
    }
   ],
   "source": [
    "# change number (full rank)\n",
    "thinking_into_3dv([1, 2, 3], [3, 2, 1], [1, 8, 9], [9, 8, 1])"
   ]
  },
  {
   "cell_type": "code",
   "execution_count": 6,
   "metadata": {},
   "outputs": [
    {
     "data": {
      "text/plain": [
       "array([[ 1.50000000e+00,  1.00000000e+00, -5.00000000e-01],\n",
       "       [ 1.00000000e+00,  1.11022302e-16,  1.00000000e+00],\n",
       "       [-5.00000000e-01,  1.00000000e+00,  1.50000000e+00]])"
      ]
     },
     "execution_count": 6,
     "metadata": {},
     "output_type": "execute_result"
    }
   ],
   "source": [
    "# scalling number\n",
    "thinking_into_3dv([1, 2, 3], [2, 4, 6], [4, 5, 6], [8, 10, 12])"
   ]
  }
 ],
 "metadata": {
  "kernelspec": {
   "display_name": "Python 3",
   "language": "python",
   "name": "python3"
  },
  "language_info": {
   "codemirror_mode": {
    "name": "ipython",
    "version": 3
   },
   "file_extension": ".py",
   "mimetype": "text/x-python",
   "name": "python",
   "nbconvert_exporter": "python",
   "pygments_lexer": "ipython3",
   "version": "3.7.7"
  }
 },
 "nbformat": 4,
 "nbformat_minor": 4
}
