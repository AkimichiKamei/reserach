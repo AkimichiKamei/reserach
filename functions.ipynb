{
 "cells": [
  {
   "cell_type": "code",
   "execution_count": 1,
   "metadata": {},
   "outputs": [],
   "source": [
    "import numpy as np\n",
    "import matplotlib.pyplot as plt"
   ]
  },
  {
   "cell_type": "code",
   "execution_count": 3,
   "metadata": {},
   "outputs": [],
   "source": [
    "def four_bit_patern():\n",
    "    imgList = []\n",
    "    for i in range(2):\n",
    "        for j in range(2):\n",
    "            for k in range(2):\n",
    "                for l in range(2):\n",
    "                    imgList.append(np.array([i,j,k,l]))\n",
    "    return imgList"
   ]
  },
  {
   "cell_type": "code",
   "execution_count": 4,
   "metadata": {},
   "outputs": [],
   "source": [
    "def four_permutation_matrix():\n",
    "    arr = np.eye(4, dtype='int')\n",
    "    arrDict = {}\n",
    "    count = 0\n",
    "\n",
    "    for i in range(4):\n",
    "        arr[0][np.where(arr[0] == 1)], arr[0][i] = arr[0][i], arr[0][np.where(arr[0] == 1)]\n",
    "        for j in range(4):\n",
    "            if j != i:\n",
    "                arr[1][np.where(arr[1] == 1)], arr[1][j] = arr[1][j], arr[1][np.where(arr[1] == 1)]\n",
    "                for h in range(4):\n",
    "                    if h != i and h != j:\n",
    "                        arr[2][np.where(arr[2] == 1)], arr[2][h] = arr[2][h], arr[2][np.where(arr[2] == 1)]\n",
    "                        for k in range(4):\n",
    "                            if k != i and k != j and k != h:\n",
    "                                arr[3][np.where(arr[3] == 1)], arr[3][k] = arr[3][k], arr[3][np.where(arr[3] == 1)]\n",
    "                                arrDict[count] = arr.tolist()\n",
    "                                count += 1\n",
    "\n",
    "    for i in range(24):\n",
    "        arrDict[i] = np.array(arrDict[i])\n",
    "        \n",
    "    return arrDict"
   ]
  },
  {
   "cell_type": "code",
   "execution_count": 11,
   "metadata": {},
   "outputs": [],
   "source": [
    "def plt_four_permutation():\n",
    "    plt.figure()\n",
    "    arrDict = four_permutation_matrix()\n",
    "\n",
    "    for k, v in arrDict.items():\n",
    "        plt.subplot(4,6,k+1)\n",
    "        plt.imshow(v)\n",
    "        plt.axis(\"off\")\n",
    "        plt.title(k)\n",
    "        \n",
    "    return plt.subplots_adjust(0,0,1,1, wspace=0.1, hspace=0.5)"
   ]
  },
  {
   "cell_type": "code",
   "execution_count": 12,
   "metadata": {},
   "outputs": [
    {
     "data": {
      "image/png": "[encoded data removed]",
      "text/plain": [
       "<Figure size 432x288 with 24 Axes>"
      ]
     },
     "metadata": {
      "needs_background": "light"
     },
     "output_type": "display_data"
    }
   ],
   "source": [
    "plt_four_permutation()"
   ]
  },
  {
   "cell_type": "code",
   "execution_count": 13,
   "metadata": {},
   "outputs": [],
   "source": [
    "def order0():\n",
    "    orderMatrix = []\n",
    "    orderList = []\n",
    "    orderPool = []\n",
    "    imgList = four_bit_patern()\n",
    "    arrDict = four_permutation_matrix()\n",
    "\n",
    "    for i in range(16):\n",
    "        for j in range(16):\n",
    "            for k, v in arrDict.items():\n",
    "                if np.allclose(np.dot(v, imgList[i]), imgList[j]):\n",
    "                    orderPool.append(k)\n",
    "            orderList.append(tuple(orderPool))\n",
    "            orderPool = []\n",
    "        orderMatrix.append(orderList)\n",
    "        orderList = []\n",
    "\n",
    "    order0 = np.array(orderMatrix)\n",
    "    return order0"
   ]
  },
  {
   "cell_type": "code",
   "execution_count": 15,
   "metadata": {},
   "outputs": [],
   "source": [
    "def plt_order0():\n",
    "    orderMatrix = []\n",
    "    orderList = []\n",
    "    orderPool = []\n",
    "    imgList = four_bit_patern()\n",
    "    arrDict = four_permutation_matrix()\n",
    "\n",
    "    for i in range(16):\n",
    "        for j in range(16):\n",
    "            for k, v in arrDict.items():\n",
    "                if np.allclose(np.dot(v, imgList[i]), imgList[j]):\n",
    "                    orderPool.append(k)\n",
    "            orderList.append(len(orderPool))\n",
    "            orderPool = []\n",
    "        orderMatrix.append(orderList)\n",
    "        orderList = []\n",
    "\n",
    "    order0 = np.array(orderMatrix)\n",
    "    \n",
    "    fig = plt.figure()\n",
    "    ax = fig.add_subplot(111)\n",
    "    im = ax.imshow(order0)\n",
    "    fig.colorbar(im)\n",
    "    \n",
    "    return"
   ]
  },
  {
   "cell_type": "code",
   "execution_count": 16,
   "metadata": {},
   "outputs": [
    {
     "data": {
      "image/png": "[encoded data removed]",
      "text/plain": [
       "<Figure size 432x288 with 2 Axes>"
      ]
     },
     "metadata": {
      "needs_background": "light"
     },
     "output_type": "display_data"
    }
   ],
   "source": [
    "plt_order0()"
   ]
  },
  {
   "cell_type": "code",
   "execution_count": 17,
   "metadata": {},
   "outputs": [],
   "source": [
    "def order1():\n",
    "    orderMatrix = []\n",
    "    orderList = []\n",
    "    order = order0()\n",
    "\n",
    "    for i in range(16):\n",
    "        for j in range(16):\n",
    "            orderList.append((set(order[i][j]) & set(order[j][i])) | (set(order[i][i]) & set(order[j][j])))\n",
    "        orderMatrix.append(orderList)\n",
    "        orderList = []\n",
    "    \n",
    "    order1 = np.array(orderMatrix)\n",
    "    return order1"
   ]
  },
  {
   "cell_type": "code",
   "execution_count": 24,
   "metadata": {},
   "outputs": [],
   "source": [
    "def plt_order1():\n",
    "    orderMatrix = []\n",
    "    orderList = []\n",
    "    order = order0()\n",
    "\n",
    "    for i in range(16):\n",
    "        for j in range(16):\n",
    "            orderList.append(len((set(order[i][j]) & set(order[j][i])) | (set(order[i][i]) & set(order[j][j]))))\n",
    "        orderMatrix.append(orderList)\n",
    "        orderList = []\n",
    "    \n",
    "    order1 = np.array(orderMatrix)\n",
    "    \n",
    "    fig = plt.figure()\n",
    "    ax = fig.add_subplot(111)\n",
    "    im = ax.imshow(order1)\n",
    "    fig.colorbar(im)\n",
    "    \n",
    "    return "
   ]
  },
  {
   "cell_type": "code",
   "execution_count": 25,
   "metadata": {},
   "outputs": [
    {
     "data": {
      "image/png": "[encoded data removed]",
      "text/plain": [
       "<Figure size 432x288 with 2 Axes>"
      ]
     },
     "metadata": {
      "needs_background": "light"
     },
     "output_type": "display_data"
    }
   ],
   "source": [
    "plt_order1()"
   ]
  },
  {
   "cell_type": "code",
   "execution_count": 26,
   "metadata": {},
   "outputs": [],
   "source": [
    "def order2():\n",
    "    orderMatrix = []\n",
    "    orderList = []\n",
    "    imgList = four_bit_patern()\n",
    "    order = order0()\n",
    "    \n",
    "    for i in range(16):\n",
    "        for j in range(16):\n",
    "            if np.allclose(imgList[i]+imgList[j],np.array([1,1,1,1])):\n",
    "                orderList.append((set(order[i][j]) & set(order[j][i])) | (set(order[i][i]) & set(order[j][j])) | set('R'))        \n",
    "            else:\n",
    "                orderList.append((set(order[i][j]) & set(order[j][i])) | (set(order[i][i]) & set(order[j][j])))\n",
    "        orderMatrix.append(orderList)\n",
    "        orderList = []\n",
    "    \n",
    "    order2 = np.array(orderMatrix)\n",
    "    return order2"
   ]
  },
  {
   "cell_type": "code",
   "execution_count": 27,
   "metadata": {},
   "outputs": [],
   "source": [
    "def plt_order2():\n",
    "    orderMatrix = []\n",
    "    orderList = []\n",
    "    imgList = four_bit_patern()\n",
    "    order = order0()\n",
    "    \n",
    "    for i in range(16):\n",
    "        for j in range(16):\n",
    "            if np.allclose(imgList[i]+imgList[j],np.array([1,1,1,1])):\n",
    "                orderList.append(len((set(order[i][j]) & set(order[j][i])) | (set(order[i][i]) & set(order[j][j])) | set('R')))        \n",
    "            else:\n",
    "                orderList.append(len((set(order[i][j]) & set(order[j][i])) | (set(order[i][i]) & set(order[j][j]))))\n",
    "        orderMatrix.append(orderList)\n",
    "        orderList = []\n",
    "    \n",
    "    order2 = np.array(orderMatrix)\n",
    "    \n",
    "    fig = plt.figure()\n",
    "    ax = fig.add_subplot(111)\n",
    "    im = ax.imshow(order2)\n",
    "    fig.colorbar(im)\n",
    "    \n",
    "    return"
   ]
  },
  {
   "cell_type": "code",
   "execution_count": 29,
   "metadata": {},
   "outputs": [
    {
     "data": {
      "image/png": "[encoded data removed]",
      "text/plain": [
       "<Figure size 432x288 with 2 Axes>"
      ]
     },
     "metadata": {
      "needs_background": "light"
     },
     "output_type": "display_data"
    }
   ],
   "source": [
    "plt_order2()"
   ]
  }
 ],
 "metadata": {
  "kernelspec": {
   "display_name": "Python 3",
   "language": "python",
   "name": "python3"
  },
  "language_info": {
   "codemirror_mode": {
    "name": "ipython",
    "version": 3
   },
   "file_extension": ".py",
   "mimetype": "text/x-python",
   "name": "python",
   "nbconvert_exporter": "python",
   "pygments_lexer": "ipython3",
   "version": "3.7.7"
  }
 },
 "nbformat": 4,
 "nbformat_minor": 4
}
