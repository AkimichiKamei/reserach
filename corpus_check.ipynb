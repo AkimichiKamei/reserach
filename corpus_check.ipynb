{
 "cells": [
  {
   "cell_type": "code",
   "execution_count": 1,
   "metadata": {},
   "outputs": [],
   "source": [
    "import numpy as np\n",
    "\n",
    "def generate_cooccurence_matrix(filepath):\n",
    "    cooccurrence_words = []\n",
    "    word2idx = {}\n",
    "    all_words = []\n",
    "    \n",
    "    with open(filepath, encoding=\"UTF-8\") as f:\n",
    "        for line in f:\n",
    "            splitted = line.split()\n",
    "            all_words.append(splitted[0])\n",
    "            cooccurrence_words.append(splitted)\n",
    "            \n",
    "    all_words = list(set(all_words))\n",
    "    \n",
    "    for word in all_words:\n",
    "        word2idx[word] = len(word2idx)\n",
    "    \n",
    "    Xc = np.zeros((len(word2idx), len(word2idx)))\n",
    "    \n",
    "    for words in cooccurrence_words:\n",
    "        i = word2idx[words[0]]\n",
    "        j = word2idx[words[1]]\n",
    "        cooccurrence = words[2]\n",
    "        Xc[i, j] = cooccurrence\n",
    "        Xc[j, i] = cooccurrence\n",
    "    \n",
    "    return Xc, word2idx"
   ]
  },
  {
   "cell_type": "code",
   "execution_count": 6,
   "metadata": {},
   "outputs": [
    {
     "name": "stderr",
     "output_type": "stream",
     "text": [
      "[nltk_data] Downloading package brown to\n",
      "[nltk_data]     C:\\Users\\eCho2\\AppData\\Roaming\\nltk_data...\n",
      "[nltk_data]   Package brown is already up-to-date!\n"
     ]
    },
    {
     "name": "stdout",
     "output_type": "stream",
     "text": [
      "['The', 'Fulton', 'County', 'Grand', 'Jury', 'said', ...]\n"
     ]
    }
   ],
   "source": [
    "import pandas as pd\n",
    "import matplotlib.pyplot as plt\n",
    "from nltk.corpus import brown\n",
    "from scipy import spatial\n",
    "import nltk\n",
    "\n",
    "# ブラウンコーパスを使用\n",
    "brown_words = nltk.download('brown')\n",
    "brown_words = brown.words()\n",
    "brown_sentences = brown.sents()\n",
    "\n",
    "# print(brown_words)\n",
    "\n",
    "# 共起頻度ベクトルの作成\n",
    "def create_cooccurance_vector(word, window_size=5):\n",
    "    occurance_dict = dict.fromkeys(brown_words)\n",
    "    windows = []\n",
    "    indexes = [i for i, x in enumerate(brown_words) if x == word]\n",
    "    for index in indexes:\n",
    "        window = brown_words[index-window_size:index+window_size]\n",
    "        windows.append(window)\n",
    "    for window in windows:\n",
    "        for word in window:\n",
    "            occurance_dict[word] = sum([window.count(word) for window in windows]) / len(brown_words)\n",
    "    return occurance_dict\n",
    "\n",
    "#単語ベクトル作成\n",
    "cooccurance_vector_think = pd.Series(create_cooccurance_vector('think')).fillna(0)\n",
    "cooccurance_vector_thinking = pd.Series(create_cooccurance_vector('thinking')).fillna(0)\n",
    "\n",
    "cooccurance_vector_read = pd.Series(create_cooccurance_vector('read')).fillna(0)\n",
    "cooccurance_vector_reading = pd.Series(create_cooccurance_vector('reading')).fillna(0)\n",
    "\n",
    "cooccurance_vector_possibly = pd.Series(create_cooccurance_vector('possibly')).fillna(0)\n",
    "cooccurance_vector_impossibly = pd.Series(create_cooccurance_vector('impossibly')).fillna(0)\n",
    "\n",
    "cooccurance_vector_good = pd.Series(create_cooccurance_vector('good')).fillna(0)\n",
    "cooccurance_vector_bad = pd.Series(create_cooccurance_vector('bad')).fillna(0)\n",
    "\n",
    "cooccurance_vector_bird = pd.Series(create_cooccurance_vector('bird')).fillna(0)\n",
    "\n",
    "cooccurance_vector_german = pd.Series(create_cooccurance_vector('Germany')).fillna(0)\n",
    "cooccurance_vector_berlin = pd.Series(create_cooccurance_vector('Berlin')).fillna(0)\n",
    "\n",
    "cooccurance_vector_greece = pd.Series(create_cooccurance_vector('Greece')).fillna(0)\n",
    "cooccurance_vector_athens = pd.Series(create_cooccurance_vector('Athens')).fillna(0)"
   ]
  },
  {
   "cell_type": "code",
   "execution_count": 7,
   "metadata": {},
   "outputs": [
    {
     "data": {
      "text/plain": [
       "The              0.000009\n",
       "Fulton           0.000000\n",
       "County           0.000000\n",
       "Grand            0.000000\n",
       "Jury             0.000000\n",
       "                   ...   \n",
       "aviary           0.000000\n",
       "olive-flushed    0.000000\n",
       "coral-colored    0.000000\n",
       "boucle           0.000000\n",
       "stupefying       0.000000\n",
       "Length: 56057, dtype: float64"
      ]
     },
     "execution_count": 7,
     "metadata": {},
     "output_type": "execute_result"
    }
   ],
   "source": [
    "cooccurance_vector_think"
   ]
  }
 ],
 "metadata": {
  "kernelspec": {
   "display_name": "Python 3",
   "language": "python",
   "name": "python3"
  },
  "language_info": {
   "codemirror_mode": {
    "name": "ipython",
    "version": 3
   },
   "file_extension": ".py",
   "mimetype": "text/x-python",
   "name": "python",
   "nbconvert_exporter": "python",
   "pygments_lexer": "ipython3",
   "version": "3.7.7"
  }
 },
 "nbformat": 4,
 "nbformat_minor": 4
}
